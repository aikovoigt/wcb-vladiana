{
 "cells": [
  {
   "cell_type": "markdown",
   "metadata": {},
   "source": [
    "# Interactive plotting of mean-sea-level pressure for Vladiana cyclone as seen on the native grid and an interpolated r1x1 grid\n",
    "\n",
    "We here only look at the 40 km run with 2-moment cloud microphysics, which is one of the run in which the identification of the cyclone core pressure is complicated by small-scale pressure variations.\n",
    "\n",
    "The interpolated data was obtained by cdo remapcon."
   ]
  },
  {
   "cell_type": "markdown",
   "metadata": {},
   "source": [
    "## Load python infrastructure"
   ]
  },
  {
   "cell_type": "code",
   "execution_count": 1,
   "metadata": {},
   "outputs": [],
   "source": [
    "import numpy as np\n",
    "import xarray as xr\n",
    "import matplotlib.pyplot as plt\n",
    "from ipywidgets import interactive"
   ]
  },
  {
   "cell_type": "code",
   "execution_count": 2,
   "metadata": {},
   "outputs": [
    {
     "data": {
      "text/html": [
       "<table style=\"border: 2px solid white;\">\n",
       "<tr>\n",
       "<td style=\"vertical-align: top; border: 0px solid white\">\n",
       "<h3 style=\"text-align: left;\">Client</h3>\n",
       "<ul style=\"text-align: left; list-style: none; margin: 0; padding: 0;\">\n",
       "  <li><b>Scheduler: </b>tcp://127.0.0.1:37662</li>\n",
       "  <li><b>Dashboard: </b><a href='http://127.0.0.1:8787/status' target='_blank'>http://127.0.0.1:8787/status</a></li>\n",
       "</ul>\n",
       "</td>\n",
       "<td style=\"vertical-align: top; border: 0px solid white\">\n",
       "<h3 style=\"text-align: left;\">Cluster</h3>\n",
       "<ul style=\"text-align: left; list-style:none; margin: 0; padding: 0;\">\n",
       "  <li><b>Workers: </b>8</li>\n",
       "  <li><b>Cores: </b>48</li>\n",
       "  <li><b>Memory: </b>134.22 GB</li>\n",
       "</ul>\n",
       "</td>\n",
       "</tr>\n",
       "</table>"
      ],
      "text/plain": [
       "<Client: 'tcp://127.0.0.1:37662' processes=8 threads=48, memory=134.22 GB>"
      ]
     },
     "execution_count": 2,
     "metadata": {},
     "output_type": "execute_result"
    }
   ],
   "source": [
    "from dask.distributed import Client\n",
    "client = Client()\n",
    "client"
   ]
  },
  {
   "cell_type": "markdown",
   "metadata": {},
   "source": [
    "## Load ICON MSLP data\n",
    "\n",
    "Also import the simulation dictionary and the plot color dictionary."
   ]
  },
  {
   "cell_type": "code",
   "execution_count": 3,
   "metadata": {},
   "outputs": [],
   "source": [
    "import sys\n",
    "sys.path.append('/pf/b/b380459/nawdex-hackathon/shared')\n",
    "import dict_nawdexsims\n",
    "\n",
    "simdict   = dict_nawdexsims.simdictionary()\n",
    "colordict = dict_nawdexsims.colordictionary()"
   ]
  },
  {
   "cell_type": "markdown",
   "metadata": {},
   "source": [
    "Note that we only load data between 2016-09-22T12:00 and 2016-09-24T11:00, as this is the time period in which Vladiana intensified."
   ]
  },
  {
   "cell_type": "code",
   "execution_count": 4,
   "metadata": {},
   "outputs": [],
   "source": [
    "def load_mslp_native(sim):\n",
    "    path  = '/scratch/b/b380459/icon_4_hackathon/'\n",
    "        \n",
    "    # grid \n",
    "    dict_gridres = {'80km': 'R80000m', '40km': 'R40000m', '20km': 'R20000m',\n",
    "                    '10km': 'R10000m', '5km': 'R5000m', '2km': 'R2500m'}\n",
    "    gridres = simdict[sim]['res']\n",
    "    fname   = path+'/grids/icon-grid_nawdex_78w40e23n80n_'+dict_gridres[gridres]+'.nc'\n",
    "    ds_grid = xr.open_dataset(fname)[['cell_area','clat', 'clon']].rename({'cell': 'ncells'})\n",
    "    \n",
    "    fname   = path+'/'+sim+'/'+sim+'_2016*_2d_30min_DOM01_ML_0*.nc'\n",
    "    ds_mslp = ( xr.open_mfdataset(fname, combine='by_coords',parallel=True, \n",
    "                                  engine='h5netcdf', chunks={'time': 1})[['pres_msl','tot_prec']].\n",
    "                sel(time=slice('2016-09-22T12:00', '2016-09-24T11:00')))\n",
    "    \n",
    "    # merge and return dataset\n",
    "    return xr.merge([ds_grid, ds_mslp])\n",
    "\n",
    "def load_mslp_remap(sim):\n",
    "    #  I am also loading tot_prec, which has the further advantage that this will be a dataset instead of a dataarray\n",
    "    path  = '/work/bb1018/b380459/NAWDEX/ICON_OUTPUT_NWP/'\n",
    "    fname = path+'/'+sim+'/post/'+sim+'_2016*_2d_30min_alltimesteps.gridr1x1.nc'\n",
    "    ds    = ( xr.open_mfdataset(fname, engine='h5netcdf', chunks={'time': 1})[['pres_msl','tot_prec']].\n",
    "              sel(time=slice('2016-09-22T12:00', '2016-09-24T11:00')))\n",
    "    \n",
    "    return ds"
   ]
  },
  {
   "cell_type": "markdown",
   "metadata": {},
   "source": [
    "We only load the Vladiana simulation for 40 km and 2-moment microphysics. The selection is done by means of start, conv and mphys."
   ]
  },
  {
   "cell_type": "code",
   "execution_count": 5,
   "metadata": {},
   "outputs": [
    {
     "name": "stdout",
     "output_type": "stream",
     "text": [
      "Loading nawdexnwp-40km-mis-0002\n"
     ]
    }
   ],
   "source": [
    "ds_native = []\n",
    "ds_remap  = []\n",
    "for sim in list(simdict.keys()):\n",
    "    # search for the correct simulation\n",
    "    if simdict[sim]['start']=='20160922' and simdict[sim]['conv']==1 and simdict[sim]['res']=='40km' and simdict[sim]['mphys']==2:\n",
    "        print('Loading', sim)\n",
    "        ds_native = load_mslp_native(sim)\n",
    "        ds_remap  = load_mslp_remap(sim)"
   ]
  },
  {
   "cell_type": "code",
   "execution_count": 6,
   "metadata": {},
   "outputs": [
    {
     "data": {
      "application/vnd.jupyter.widget-view+json": {
       "model_id": "f91050fed09b4349b5c73a850151c414",
       "version_major": 2,
       "version_minor": 0
      },
      "text/plain": [
       "interactive(children=(Dropdown(description='field', options=('pres_msl',), value='pres_msl'), IntSlider(value=…"
      ]
     },
     "metadata": {},
     "output_type": "display_data"
    }
   ],
   "source": [
    "def plot_field_native(field, time):\n",
    "    var=ds_native[field].isel(time=time)\n",
    "    plt.figure(figsize=(12,8))\n",
    "    plt.tricontourf(np.rad2deg(ds_native.clon), np.rad2deg(ds_native.clat), var, np.linspace(980e2,1000e2,20))\n",
    "    plt.colorbar()\n",
    "    plt.xlim(-40,-10); plt.ylim(45,65)\n",
    "    plt.title(ds_native.isel(time=time).time.values)\n",
    "    plt.xlabel('longitude'); plt.ylabel('latitude')\n",
    "    plt.show()\n",
    "    return\n",
    "\n",
    "def plot_field_remap(field, time):\n",
    "    var=ds_remap[field].isel(time=time)\n",
    "    plt.figure(figsize=(12,8))\n",
    "    plt.contourf(ds_remap.lon, ds_remap.lat, var, np.linspace(980e2,1000e2,20))\n",
    "    plt.colorbar()\n",
    "    plt.xlim(-40,-10); plt.ylim(45,65)\n",
    "    plt.title(ds_remap.isel(time=time).time.values)\n",
    "    plt.xlabel('longitude'); plt.ylabel('latitude')\n",
    "    plt.show()\n",
    "    return\n",
    "\n",
    "w = interactive(plot_field_native, field=['pres_msl'], time=(0,len(ds_native.time)-1,1))\n",
    "#w = interactive(plot_field_remap, field=['pres_msl'], time=(0,len(ds_remap.time)-1,1))\n",
    "\n",
    "\n",
    "output = w.children[-1]\n",
    "output.layout.width = '600px'\n",
    "output.layout.height = '450px'\n",
    "display(w)"
   ]
  },
  {
   "cell_type": "markdown",
   "metadata": {},
   "source": [
    "## Shut down dask"
   ]
  },
  {
   "cell_type": "code",
   "execution_count": 7,
   "metadata": {},
   "outputs": [],
   "source": [
    "client.close()"
   ]
  }
 ],
 "metadata": {
  "kernelspec": {
   "display_name": "Nawdex-Hackathon",
   "language": "python",
   "name": "nawdex-hackathon"
  },
  "language_info": {
   "codemirror_mode": {
    "name": "ipython",
    "version": 3
   },
   "file_extension": ".py",
   "mimetype": "text/x-python",
   "name": "python",
   "nbconvert_exporter": "python",
   "pygments_lexer": "ipython3",
   "version": "3.8.6"
  }
 },
 "nbformat": 4,
 "nbformat_minor": 4
}
